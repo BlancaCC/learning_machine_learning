{
 "cells": [
  {
   "cell_type": "code",
   "execution_count": 16,
   "metadata": {},
   "outputs": [],
   "source": [
    "import numpy as np\n",
    "def gaussian_fourier_tranform(w: np.array)-> float:\n",
    "    '''\n",
    "    W array \n",
    "    ''' \n",
    "    D = len(w)\n",
    "    norm = w.dot(w)\n",
    "    print('norm ', norm)\n",
    "    return (2*np.pi)**(-D/2)* np.exp(-norm/2)\n",
    "\n",
    "# debería de ser menor que 0 0 igua"
   ]
  },
  {
   "cell_type": "code",
   "execution_count": 17,
   "metadata": {},
   "outputs": [
    {
     "name": "stdout",
     "output_type": "stream",
     "text": [
      "norm  1\n"
     ]
    },
    {
     "data": {
      "text/plain": [
       "0.2624021400126763"
      ]
     },
     "execution_count": 17,
     "metadata": {},
     "output_type": "execute_result"
    }
   ],
   "source": [
    "w = np.array([1,0])\n",
    "\n",
    "gaussian_fourier_tranform(w)\n",
    "\n"
   ]
  },
  {
   "cell_type": "code",
   "execution_count": 27,
   "metadata": {},
   "outputs": [
    {
     "name": "stdout",
     "output_type": "stream",
     "text": [
      "norm  20.261617238697674\n",
      "norm  20.261617238697674\n",
      "accepted [ 2.52258259 -2.59840095  2.67329513],: p:1593.9859097154222, u0.8211310505176712\n",
      "\n",
      "\n",
      "norm  2.3667098760616634\n",
      "rejected [ 0.23539875 -1.196578   -0.93781576]\n",
      "norm  22.93975730469554\n",
      "norm  22.93975730469554\n",
      "accepted [ 3.20976672 -3.29307343 -1.33896316],: p:6081.842992133987, u0.5983489106736493\n",
      "\n",
      "\n",
      "norm  21.30112999221845\n",
      "norm  21.30112999221845\n",
      "accepted [-2.25350369 -2.8009941   2.89435367],: p:2680.4752677507186, u0.5835688924165163\n",
      "\n",
      "\n",
      "norm  12.29479064026465\n",
      "norm  12.29479064026465\n",
      "accepted [-2.50216966  2.24835743  0.9893566 ],: p:29.68315521756402, u0.24670185767239616\n",
      "\n",
      "\n",
      "norm  10.401742099035065\n",
      "norm  10.401742099035065\n",
      "accepted [1.81443144 0.25612847 2.65404952],: p:11.519663559117022, u0.22556320968543841\n",
      "\n",
      "\n"
     ]
    },
    {
     "data": {
      "text/plain": [
       "array([[ 2.52258259, -2.59840095,  2.67329513],\n",
       "       [ 3.20976672, -3.29307343, -1.33896316],\n",
       "       [-2.25350369, -2.8009941 ,  2.89435367],\n",
       "       [-2.50216966,  2.24835743,  0.9893566 ],\n",
       "       [ 1.81443144,  0.25612847,  2.65404952]])"
      ]
     },
     "execution_count": 27,
     "metadata": {},
     "output_type": "execute_result"
    }
   ],
   "source": [
    "size, dimension = 5, 3\n",
    "W_list = np.zeros((size,dimension))\n",
    "\n",
    "def generate_random(p, dimension, k = 2): \n",
    "    '''\n",
    "    '''\n",
    "    while True: # \n",
    "        w = np.random.uniform(-k, k, dimension)\n",
    "        u = np.random.uniform(0,1,1)\n",
    "        if u[0] <= p(w):\n",
    "            print(f'accepted {w},: p:{p(w)}, u{u[0]}\\n\\n')\n",
    "            return w\n",
    "        else:\n",
    "            print(f'rejected {w}')\n",
    "\n",
    "\n",
    "W = np.array([\n",
    "    generate_random(gaussian_fourier_tranform, dimension, 10/dimension)\n",
    "    for _ in range(size)\n",
    "])\n",
    "W\n",
    "\n"
   ]
  },
  {
   "attachments": {},
   "cell_type": "markdown",
   "metadata": {},
   "source": [
    "heurística de $k$\n",
    "\n"
   ]
  },
  {
   "cell_type": "code",
   "execution_count": 23,
   "metadata": {},
   "outputs": [
    {
     "data": {
      "text/plain": [
       "0.01831563888873418"
      ]
     },
     "execution_count": 23,
     "metadata": {},
     "output_type": "execute_result"
    }
   ],
   "source": [
    "np.exp(-4)\n",
    "\n",
    "10 / dimension "
   ]
  },
  {
   "cell_type": "code",
   "execution_count": 2,
   "metadata": {},
   "outputs": [
    {
     "data": {
      "text/plain": [
       "array([96.94692509, 19.21014194, -3.83762002])"
      ]
     },
     "execution_count": 2,
     "metadata": {},
     "output_type": "execute_result"
    }
   ],
   "source": [
    "k = 100\n",
    "dimension = 3\n",
    "np.random.uniform(-k, k, dimension)"
   ]
  }
 ],
 "metadata": {
  "kernelspec": {
   "display_name": "tensorflow",
   "language": "python",
   "name": "python3"
  },
  "language_info": {
   "codemirror_mode": {
    "name": "ipython",
    "version": 3
   },
   "file_extension": ".py",
   "mimetype": "text/x-python",
   "name": "python",
   "nbconvert_exporter": "python",
   "pygments_lexer": "ipython3",
   "version": "3.9.7"
  },
  "orig_nbformat": 4,
  "vscode": {
   "interpreter": {
    "hash": "24dcaf82da949eb8a169ffe40fd331a23a642ab22de3e08713f616aa663d0868"
   }
  }
 },
 "nbformat": 4,
 "nbformat_minor": 2
}
