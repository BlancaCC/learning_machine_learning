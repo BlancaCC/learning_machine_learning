{
 "cells": [
  {
   "cell_type": "code",
   "execution_count": 3,
   "metadata": {},
   "outputs": [],
   "source": [
    "import numpy as np\n",
    "def gaussian_fourier_tranform(w: np.array)-> float:\n",
    "    '''\n",
    "    W array \n",
    "    ''' \n",
    "    D = len(w)\n",
    "    norm = w.dot(w)\n",
    "\n",
    "    return (2*np.pi)**(-D/2)* np.exp(norm/2)\n",
    "\n"
   ]
  },
  {
   "cell_type": "code",
   "execution_count": 4,
   "metadata": {},
   "outputs": [
    {
     "data": {
      "text/plain": [
       "0.2624021400126763"
      ]
     },
     "execution_count": 4,
     "metadata": {},
     "output_type": "execute_result"
    }
   ],
   "source": [
    "w = np.array([1,0])\n",
    "\n",
    "gaussian_fourier_tranform(w)"
   ]
  }
 ],
 "metadata": {
  "kernelspec": {
   "display_name": "tensorflow",
   "language": "python",
   "name": "python3"
  },
  "language_info": {
   "codemirror_mode": {
    "name": "ipython",
    "version": 3
   },
   "file_extension": ".py",
   "mimetype": "text/x-python",
   "name": "python",
   "nbconvert_exporter": "python",
   "pygments_lexer": "ipython3",
   "version": "3.9.7"
  },
  "orig_nbformat": 4,
  "vscode": {
   "interpreter": {
    "hash": "24dcaf82da949eb8a169ffe40fd331a23a642ab22de3e08713f616aa663d0868"
   }
  }
 },
 "nbformat": 4,
 "nbformat_minor": 2
}
