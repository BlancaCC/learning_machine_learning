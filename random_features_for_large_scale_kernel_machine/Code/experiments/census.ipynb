{
 "cells": [
  {
   "attachments": {},
   "cell_type": "markdown",
   "metadata": {},
   "source": [
    "# Census Experiments \n",
    "\n",
    "We are going to downloads: \n",
    "https://www.kaggle.com/datasets/uciml/adult-census-income?resource=download\n",
    "\n",
    "\n",
    "This data was extracted from the 1994 Census bureau database by Ronny Kohavi and Barry Becker (Data Mining and Visualization, Silicon Graphics). A set of reasonably clean records was extracted using the following conditions: ((AAGE>16) && (AGI>100) && (AFNLWGT>1) && (HRSWK>0)). The prediction task is to determine whether a person makes over $50K a year."
   ]
  },
  {
   "attachments": {},
   "cell_type": "markdown",
   "metadata": {},
   "source": [
    "## Preprocessing \n",
    "\n"
   ]
  },
  {
   "cell_type": "code",
   "execution_count": 17,
   "metadata": {},
   "outputs": [],
   "source": [
    "import numpy as np \n",
    "import pandas as pd\n",
    "from sklearn.preprocessing import OneHotEncoder, KBinsDiscretizer\n",
    "from sklearn import svm,model_selection,preprocessing, linear_model\n",
    "from sklearn.decomposition import PCA\n",
    "from sklearn.kernel_approximation import RBFSampler\n",
    "\n",
    "import timeit\n",
    "\n",
    "df=pd.read_csv('../datasets/adult.csv')"
   ]
  },
  {
   "cell_type": "code",
   "execution_count": 2,
   "metadata": {},
   "outputs": [
    {
     "name": "stdout",
     "output_type": "stream",
     "text": [
      "<class 'pandas.core.frame.DataFrame'>\n",
      "Int64Index: 32537 entries, 0 to 32560\n",
      "Data columns (total 15 columns):\n",
      " #   Column          Non-Null Count  Dtype \n",
      "---  ------          --------------  ----- \n",
      " 0   age             32537 non-null  int64 \n",
      " 1   workclass       32537 non-null  object\n",
      " 2   fnlwgt          32537 non-null  int64 \n",
      " 3   education       32537 non-null  object\n",
      " 4   education.num   32537 non-null  int64 \n",
      " 5   marital.status  32537 non-null  object\n",
      " 6   occupation      32537 non-null  object\n",
      " 7   relationship    32537 non-null  object\n",
      " 8   race            32537 non-null  object\n",
      " 9   sex             32537 non-null  object\n",
      " 10  capital.gain    32537 non-null  int64 \n",
      " 11  capital.loss    32537 non-null  int64 \n",
      " 12  hours.per.week  32537 non-null  int64 \n",
      " 13  native.country  32537 non-null  object\n",
      " 14  income          32537 non-null  object\n",
      "dtypes: int64(6), object(9)\n",
      "memory usage: 4.0+ MB\n",
      "object    9\n",
      "int64     6\n",
      "dtype: int64\n"
     ]
    },
    {
     "data": {
      "text/html": [
       "<div>\n",
       "<style scoped>\n",
       "    .dataframe tbody tr th:only-of-type {\n",
       "        vertical-align: middle;\n",
       "    }\n",
       "\n",
       "    .dataframe tbody tr th {\n",
       "        vertical-align: top;\n",
       "    }\n",
       "\n",
       "    .dataframe thead th {\n",
       "        text-align: right;\n",
       "    }\n",
       "</style>\n",
       "<table border=\"1\" class=\"dataframe\">\n",
       "  <thead>\n",
       "    <tr style=\"text-align: right;\">\n",
       "      <th></th>\n",
       "      <th>age</th>\n",
       "      <th>workclass</th>\n",
       "      <th>fnlwgt</th>\n",
       "      <th>education</th>\n",
       "      <th>education.num</th>\n",
       "      <th>marital.status</th>\n",
       "      <th>occupation</th>\n",
       "      <th>relationship</th>\n",
       "      <th>race</th>\n",
       "      <th>sex</th>\n",
       "      <th>capital.gain</th>\n",
       "      <th>capital.loss</th>\n",
       "      <th>hours.per.week</th>\n",
       "      <th>native.country</th>\n",
       "      <th>income</th>\n",
       "    </tr>\n",
       "  </thead>\n",
       "  <tbody>\n",
       "    <tr>\n",
       "      <th>0</th>\n",
       "      <td>90</td>\n",
       "      <td>?</td>\n",
       "      <td>77053</td>\n",
       "      <td>HS-grad</td>\n",
       "      <td>9</td>\n",
       "      <td>Widowed</td>\n",
       "      <td>?</td>\n",
       "      <td>Not-in-family</td>\n",
       "      <td>White</td>\n",
       "      <td>Female</td>\n",
       "      <td>0</td>\n",
       "      <td>4356</td>\n",
       "      <td>40</td>\n",
       "      <td>United-States</td>\n",
       "      <td>&lt;=50K</td>\n",
       "    </tr>\n",
       "    <tr>\n",
       "      <th>1</th>\n",
       "      <td>82</td>\n",
       "      <td>Private</td>\n",
       "      <td>132870</td>\n",
       "      <td>HS-grad</td>\n",
       "      <td>9</td>\n",
       "      <td>Widowed</td>\n",
       "      <td>Exec-managerial</td>\n",
       "      <td>Not-in-family</td>\n",
       "      <td>White</td>\n",
       "      <td>Female</td>\n",
       "      <td>0</td>\n",
       "      <td>4356</td>\n",
       "      <td>18</td>\n",
       "      <td>United-States</td>\n",
       "      <td>&lt;=50K</td>\n",
       "    </tr>\n",
       "    <tr>\n",
       "      <th>2</th>\n",
       "      <td>66</td>\n",
       "      <td>?</td>\n",
       "      <td>186061</td>\n",
       "      <td>Some-college</td>\n",
       "      <td>10</td>\n",
       "      <td>Widowed</td>\n",
       "      <td>?</td>\n",
       "      <td>Unmarried</td>\n",
       "      <td>Black</td>\n",
       "      <td>Female</td>\n",
       "      <td>0</td>\n",
       "      <td>4356</td>\n",
       "      <td>40</td>\n",
       "      <td>United-States</td>\n",
       "      <td>&lt;=50K</td>\n",
       "    </tr>\n",
       "    <tr>\n",
       "      <th>3</th>\n",
       "      <td>54</td>\n",
       "      <td>Private</td>\n",
       "      <td>140359</td>\n",
       "      <td>7th-8th</td>\n",
       "      <td>4</td>\n",
       "      <td>Divorced</td>\n",
       "      <td>Machine-op-inspct</td>\n",
       "      <td>Unmarried</td>\n",
       "      <td>White</td>\n",
       "      <td>Female</td>\n",
       "      <td>0</td>\n",
       "      <td>3900</td>\n",
       "      <td>40</td>\n",
       "      <td>United-States</td>\n",
       "      <td>&lt;=50K</td>\n",
       "    </tr>\n",
       "    <tr>\n",
       "      <th>4</th>\n",
       "      <td>41</td>\n",
       "      <td>Private</td>\n",
       "      <td>264663</td>\n",
       "      <td>Some-college</td>\n",
       "      <td>10</td>\n",
       "      <td>Separated</td>\n",
       "      <td>Prof-specialty</td>\n",
       "      <td>Own-child</td>\n",
       "      <td>White</td>\n",
       "      <td>Female</td>\n",
       "      <td>0</td>\n",
       "      <td>3900</td>\n",
       "      <td>40</td>\n",
       "      <td>United-States</td>\n",
       "      <td>&lt;=50K</td>\n",
       "    </tr>\n",
       "  </tbody>\n",
       "</table>\n",
       "</div>"
      ],
      "text/plain": [
       "   age workclass  fnlwgt     education  education.num marital.status  \\\n",
       "0   90         ?   77053       HS-grad              9        Widowed   \n",
       "1   82   Private  132870       HS-grad              9        Widowed   \n",
       "2   66         ?  186061  Some-college             10        Widowed   \n",
       "3   54   Private  140359       7th-8th              4       Divorced   \n",
       "4   41   Private  264663  Some-college             10      Separated   \n",
       "\n",
       "          occupation   relationship   race     sex  capital.gain  \\\n",
       "0                  ?  Not-in-family  White  Female             0   \n",
       "1    Exec-managerial  Not-in-family  White  Female             0   \n",
       "2                  ?      Unmarried  Black  Female             0   \n",
       "3  Machine-op-inspct      Unmarried  White  Female             0   \n",
       "4     Prof-specialty      Own-child  White  Female             0   \n",
       "\n",
       "   capital.loss  hours.per.week native.country income  \n",
       "0          4356              40  United-States  <=50K  \n",
       "1          4356              18  United-States  <=50K  \n",
       "2          4356              40  United-States  <=50K  \n",
       "3          3900              40  United-States  <=50K  \n",
       "4          3900              40  United-States  <=50K  "
      ]
     },
     "execution_count": 2,
     "metadata": {},
     "output_type": "execute_result"
    }
   ],
   "source": [
    "#Drop the duplicate rows\n",
    "df=df.drop_duplicates(keep='first')\n",
    "df.shape\n",
    "df.info()\n",
    "print(pd.value_counts(df.dtypes))\n",
    "df.head()"
   ]
  },
  {
   "attachments": {},
   "cell_type": "markdown",
   "metadata": {},
   "source": [
    "Values that cannot be interpreted as \"?\" will be considered as missing values. For simplicity, we will remove those rows without considering other methods, assuming that the data is unbiased.\n",
    "\n"
   ]
  },
  {
   "cell_type": "code",
   "execution_count": 3,
   "metadata": {},
   "outputs": [
    {
     "name": "stdout",
     "output_type": "stream",
     "text": [
      "<class 'pandas.core.frame.DataFrame'>\n",
      "Int64Index: 32537 entries, 0 to 32560\n",
      "Data columns (total 15 columns):\n",
      " #   Column          Non-Null Count  Dtype \n",
      "---  ------          --------------  ----- \n",
      " 0   age             32537 non-null  int64 \n",
      " 1   workclass       30701 non-null  object\n",
      " 2   fnlwgt          32537 non-null  int64 \n",
      " 3   education       32537 non-null  object\n",
      " 4   education.num   32537 non-null  int64 \n",
      " 5   marital.status  32537 non-null  object\n",
      " 6   occupation      30694 non-null  object\n",
      " 7   relationship    32537 non-null  object\n",
      " 8   race            32537 non-null  object\n",
      " 9   sex             32537 non-null  object\n",
      " 10  capital.gain    32537 non-null  int64 \n",
      " 11  capital.loss    32537 non-null  int64 \n",
      " 12  hours.per.week  32537 non-null  int64 \n",
      " 13  native.country  31955 non-null  object\n",
      " 14  income          32537 non-null  object\n",
      "dtypes: int64(6), object(9)\n",
      "memory usage: 4.0+ MB\n"
     ]
    }
   ],
   "source": [
    "df[df=='?']=np.nan\n",
    "df.info()"
   ]
  },
  {
   "cell_type": "code",
   "execution_count": 4,
   "metadata": {},
   "outputs": [
    {
     "name": "stdout",
     "output_type": "stream",
     "text": [
      "<class 'pandas.core.frame.DataFrame'>\n",
      "Int64Index: 30139 entries, 1 to 32560\n",
      "Data columns (total 15 columns):\n",
      " #   Column          Non-Null Count  Dtype \n",
      "---  ------          --------------  ----- \n",
      " 0   age             30139 non-null  int64 \n",
      " 1   workclass       30139 non-null  object\n",
      " 2   fnlwgt          30139 non-null  int64 \n",
      " 3   education       30139 non-null  object\n",
      " 4   education.num   30139 non-null  int64 \n",
      " 5   marital.status  30139 non-null  object\n",
      " 6   occupation      30139 non-null  object\n",
      " 7   relationship    30139 non-null  object\n",
      " 8   race            30139 non-null  object\n",
      " 9   sex             30139 non-null  object\n",
      " 10  capital.gain    30139 non-null  int64 \n",
      " 11  capital.loss    30139 non-null  int64 \n",
      " 12  hours.per.week  30139 non-null  int64 \n",
      " 13  native.country  30139 non-null  object\n",
      " 14  income          30139 non-null  object\n",
      "dtypes: int64(6), object(9)\n",
      "memory usage: 3.7+ MB\n"
     ]
    }
   ],
   "source": [
    "df = df.dropna()\n",
    "df.info()"
   ]
  },
  {
   "attachments": {},
   "cell_type": "markdown",
   "metadata": {},
   "source": [
    "### Categorical data and scaler "
   ]
  },
  {
   "cell_type": "code",
   "execution_count": 5,
   "metadata": {},
   "outputs": [
    {
     "name": "stdout",
     "output_type": "stream",
     "text": [
      "Final x_train shape  (18083, 20751)\n",
      "Final x_test shape  (12056, 20751)\n"
     ]
    }
   ],
   "source": [
    "x=df.drop('income',axis=1)\n",
    "y=df['income']\n",
    "\n",
    "encoder = OneHotEncoder()\n",
    "encoder.fit(x)\n",
    "\n",
    "one_hot_encoded_data  = encoder.transform(x).toarray()\n",
    "\n",
    "x_train, x_test, y_train, y_test = model_selection.train_test_split(one_hot_encoded_data, y, test_size = 0.4, random_state = 10)\n",
    "\n",
    "scaler=preprocessing.StandardScaler()\n",
    "\n",
    "x_train =scaler.fit_transform(x_train)\n",
    "x_test = scaler.transform(x_test)\n",
    "\n",
    "print('Final x_train shape ', x_train.shape)\n",
    "print('Final x_test shape ', x_test.shape)"
   ]
  },
  {
   "cell_type": "code",
   "execution_count": null,
   "metadata": {},
   "outputs": [],
   "source": []
  },
  {
   "attachments": {},
   "cell_type": "markdown",
   "metadata": {},
   "source": [
    "In order to have the same number of dimension as the experiment (119 dims) we are going to reduce dimension using PCA. "
   ]
  },
  {
   "cell_type": "code",
   "execution_count": 6,
   "metadata": {},
   "outputs": [
    {
     "name": "stdout",
     "output_type": "stream",
     "text": [
      "Final x_train shape  (18083, 119)\n",
      "Final x_test shape  (12056, 119)\n"
     ]
    }
   ],
   "source": [
    "n_components = 119\n",
    "pca = PCA(n_components = n_components)\n",
    "x_train_dims = pca.fit_transform(x_train)\n",
    "x_test_dims = pca.transform(x_test)\n",
    "\n",
    "print('Final x_train shape ', x_train_dims.shape)\n",
    "print('Final x_test shape ', x_test_dims.shape)"
   ]
  },
  {
   "attachments": {},
   "cell_type": "markdown",
   "metadata": {},
   "source": [
    "## SVM adjust "
   ]
  },
  {
   "cell_type": "code",
   "execution_count": 7,
   "metadata": {},
   "outputs": [
    {
     "name": "stdout",
     "output_type": "stream",
     "text": [
      "Time spent in SVC: 10.2496s\n",
      "Accuracy in test 0.8546%\n"
     ]
    }
   ],
   "source": [
    "# Training \n",
    "clf = svm.SVC(gamma='scale') # regression problem\n",
    "init_time = timeit.default_timer()\n",
    "clf.fit(x_train_dims, y_train)\n",
    "end_time = timeit.default_timer()\n",
    "spent_time = end_time - init_time\n",
    "print(f'Time spent in SVC: {spent_time:.4f}s')\n",
    "# Test \n",
    "score = clf.score(x_test_dims, y_test)\n",
    "print(f'Accuracy in test {score :.4f}%')"
   ]
  },
  {
   "attachments": {},
   "cell_type": "markdown",
   "metadata": {},
   "source": [
    "## Random Fourier features \n"
   ]
  },
  {
   "cell_type": "code",
   "execution_count": 15,
   "metadata": {},
   "outputs": [
    {
     "name": "stdout",
     "output_type": "stream",
     "text": [
      "Time spent in RFF D=500 gamma = 0.5 : 0.4650 s\n",
      "Accuracy RFF D=500 gamma = 0.5: 0.7527%\n"
     ]
    }
   ],
   "source": [
    "D = 500\n",
    "best_alpha = 0.5\n",
    "gamma = 0.5\n",
    "\n",
    "rbf_feature = RBFSampler(gamma=gamma, n_components=D, random_state=1)\n",
    "clf = linear_model.RidgeClassifier(alpha=best_alpha)\n",
    "init_time = timeit.default_timer()\n",
    "X_features = rbf_feature.fit_transform(x_train_dims)\n",
    "clf.fit(X_features, y_train)\n",
    "end_time = timeit.default_timer()\n",
    "spent_time = end_time - init_time\n",
    "\n",
    "print(f'Time spent in RFF D={D} gamma = {gamma} : {spent_time:.4f} s')\n",
    "X_features_test = rbf_feature.fit_transform(x_test_dims)\n",
    "\n",
    "score = clf.score(X_features_test, y_test)\n",
    "print(f'Accuracy RFF D={D} gamma = {gamma}: {score :.4f}%')"
   ]
  },
  {
   "cell_type": "code",
   "execution_count": 20,
   "metadata": {},
   "outputs": [
    {
     "name": "stdout",
     "output_type": "stream",
     "text": [
      "Time spent in RBF + LS P=30 gamma = 0.5  alpha = 0.500: 0.2892 s\n",
      "Score RBF + LS P=30 gamma = 0.5 R: 0.8397 %\n",
      "\n"
     ]
    }
   ],
   "source": [
    "P = 30\n",
    "est = KBinsDiscretizer(n_bins=P, encode='ordinal',\n",
    "                                strategy='uniform')\n",
    "\n",
    "clf = linear_model.RidgeClassifier(alpha=best_alpha)\n",
    "init_time = timeit.default_timer()\n",
    "X_features = est.fit_transform(x_train_dims)\n",
    "clf.fit(X_features, y_train)\n",
    "end_time = timeit.default_timer()\n",
    "spent_time = end_time - init_time\n",
    "\n",
    "print(f'Time spent in RBF + LS P={P} gamma = {gamma}  alpha = {best_alpha:.3f}: {spent_time:.4f} s')\n",
    "X_features_test = est.transform(x_test_dims)\n",
    "\n",
    "score = clf.score(X_features_test, y_test)\n",
    "print(f'Score RBF + LS P={P} gamma = {gamma} R: {score :.4f} %\\n')"
   ]
  }
 ],
 "metadata": {
  "kernelspec": {
   "display_name": "tensorflow",
   "language": "python",
   "name": "python3"
  },
  "language_info": {
   "codemirror_mode": {
    "name": "ipython",
    "version": 3
   },
   "file_extension": ".py",
   "mimetype": "text/x-python",
   "name": "python",
   "nbconvert_exporter": "python",
   "pygments_lexer": "ipython3",
   "version": "3.9.7"
  },
  "orig_nbformat": 4
 },
 "nbformat": 4,
 "nbformat_minor": 2
}
