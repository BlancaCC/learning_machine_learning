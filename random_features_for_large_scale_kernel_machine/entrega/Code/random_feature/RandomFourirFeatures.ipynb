{
 "cells": [
  {
   "cell_type": "code",
   "execution_count": 3,
   "metadata": {},
   "outputs": [],
   "source": [
    "import numpy as np\n",
    "def gaussian_fourier_tranform(w: np.array)-> float:\n",
    "    '''\n",
    "    W array \n",
    "    ''' \n",
    "    D = len(w)\n",
    "    norm = w.dot(w)\n",
    "    return (2*np.pi)**(-D/2)* np.exp(-norm/2)\n",
    "\n",
    "# debería de ser menor que 0 0 igua"
   ]
  },
  {
   "cell_type": "code",
   "execution_count": 4,
   "metadata": {},
   "outputs": [
    {
     "data": {
      "text/plain": [
       "0.09653235263005391"
      ]
     },
     "execution_count": 4,
     "metadata": {},
     "output_type": "execute_result"
    }
   ],
   "source": [
    "w = np.array([1,0])\n",
    "\n",
    "gaussian_fourier_tranform(w)\n",
    "\n"
   ]
  },
  {
   "cell_type": "code",
   "execution_count": 5,
   "metadata": {},
   "outputs": [
    {
     "data": {
      "text/plain": [
       "array([[ 0.18106576,  0.11042719,  0.06276993, -0.16113171,  0.34293475,\n",
       "         0.05466988,  0.02267549,  0.15303146,  0.11240464,  0.12548485],\n",
       "       [ 0.25919679,  0.19209182,  0.45991895, -0.40282708,  0.11216274,\n",
       "        -0.42000514, -0.27917223,  0.25757403, -0.07921108, -0.28830842],\n",
       "       [ 0.2641046 , -0.36511289,  0.28727384,  0.49212797, -0.27956602,\n",
       "         0.47017886,  0.03775285,  0.34608066,  0.19279248,  0.04905849],\n",
       "       [ 0.42141911,  0.28257757, -0.34744009,  0.4429152 , -0.03684087,\n",
       "        -0.41340311, -0.02388822, -0.03688797,  0.14629304,  0.23346875],\n",
       "       [ 0.09293828, -0.07342647, -0.20090647, -0.026824  ,  0.1133675 ,\n",
       "        -0.43121018, -0.25263524,  0.34695447,  0.13326951,  0.47935853]])"
      ]
     },
     "execution_count": 5,
     "metadata": {},
     "output_type": "execute_result"
    }
   ],
   "source": [
    "size, dimension = 5, 10\n",
    "\n",
    "\n",
    "def generate_random(p, dimension, k = 2): \n",
    "    '''\n",
    "    '''\n",
    "    while True: # \n",
    "        w = np.random.uniform(-k, k, dimension)\n",
    "        u = np.random.uniform(0,1,1)\n",
    "        if u[0] <= p(w):\n",
    "            return w\n",
    "            \n",
    "\n",
    "\n",
    "W = np.array([\n",
    "    generate_random(gaussian_fourier_tranform, dimension, 5/dimension)\n",
    "    for _ in range(size)\n",
    "])\n",
    "W\n",
    "\n"
   ]
  },
  {
   "attachments": {},
   "cell_type": "markdown",
   "metadata": {},
   "source": [
    "heurística de $k$\n",
    "\n"
   ]
  },
  {
   "cell_type": "code",
   "execution_count": 13,
   "metadata": {},
   "outputs": [
    {
     "data": {
      "text/plain": [
       "array([ 0.02026566,  0.16296105, -1.27152247,  0.07199538])"
      ]
     },
     "execution_count": 13,
     "metadata": {},
     "output_type": "execute_result"
    }
   ],
   "source": [
    "from random_feature.kernels import gaussian_fourier_tranform\n",
    "dimension = 4\n",
    "k = 3\n",
    "np.random.seed(1)\n",
    "generate_random(gaussian_fourier_tranform, dimension, k)\n"
   ]
  },
  {
   "cell_type": "code",
   "execution_count": 7,
   "metadata": {},
   "outputs": [
    {
     "data": {
      "text/plain": [
       "2.5"
      ]
     },
     "execution_count": 7,
     "metadata": {},
     "output_type": "execute_result"
    }
   ],
   "source": [
    "np.exp(-4)\n",
    "\n",
    "10 / dimension "
   ]
  },
  {
   "cell_type": "code",
   "execution_count": 37,
   "metadata": {},
   "outputs": [
    {
     "data": {
      "text/plain": [
       "'\\nb = np.array([0,1,-1])\\nW = np.array(\\n    [[1,0],\\n    [0,3],\\n    [2,4]]\\n)\\nx = np.array([1,0])\\n'"
      ]
     },
     "execution_count": 37,
     "metadata": {},
     "output_type": "execute_result"
    }
   ],
   "source": [
    "import numpy as np \n",
    "k = 100\n",
    "dimension = 3\n",
    "b = np.random.uniform(-k, k, dimension)\n",
    "W = np.random.uniform(-k, k, (dimension, 2))\n",
    "x = np.random.uniform(-k, k, 2)\n",
    "'''\n",
    "b = np.array([0,1,-1])\n",
    "W = np.array(\n",
    "    [[1,0],\n",
    "    [0,3],\n",
    "    [2,4]]\n",
    ")\n",
    "x = np.array([1,0])\n",
    "'''"
   ]
  },
  {
   "cell_type": "code",
   "execution_count": 38,
   "metadata": {},
   "outputs": [
    {
     "name": "stdout",
     "output_type": "stream",
     "text": [
      "W \n",
      " [[ 56.71681314  -3.17999348]\n",
      " [ 41.44712723  -9.72595664]\n",
      " [ 63.68881002 -56.20425406]]\n",
      "repeated x\n",
      " [[-51.51449283 -65.02461848]\n",
      " [-51.51449283 -65.02461848]\n",
      " [-51.51449283 -65.02461848]]\n"
     ]
    },
    {
     "data": {
      "text/plain": [
       "array([ 0.87313283, -0.96417883,  0.99909805])"
      ]
     },
     "execution_count": 38,
     "metadata": {},
     "output_type": "execute_result"
    }
   ],
   "source": [
    "print('W \\n',W)\n",
    "X = np.repeat([x], dimension, axis=0)\n",
    "print('repeated x\\n',X) \n",
    "w_dot_x = np.sum(np.multiply(W, X), axis=1)\n",
    "np.cos(w_dot_x + b)\n"
   ]
  }
 ],
 "metadata": {
  "kernelspec": {
   "display_name": "tensorflow",
   "language": "python",
   "name": "python3"
  },
  "language_info": {
   "codemirror_mode": {
    "name": "ipython",
    "version": 3
   },
   "file_extension": ".py",
   "mimetype": "text/x-python",
   "name": "python",
   "nbconvert_exporter": "python",
   "pygments_lexer": "ipython3",
   "version": "3.9.7"
  },
  "orig_nbformat": 4,
  "vscode": {
   "interpreter": {
    "hash": "24dcaf82da949eb8a169ffe40fd331a23a642ab22de3e08713f616aa663d0868"
   }
  }
 },
 "nbformat": 4,
 "nbformat_minor": 2
}
